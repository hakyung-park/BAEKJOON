{
  "nbformat": 4,
  "nbformat_minor": 0,
  "metadata": {
    "colab": {
      "name": "Day 1 (06.30.2021).ipynb",
      "provenance": [],
      "collapsed_sections": [],
      "authorship_tag": "ABX9TyOuU5oizvrlq8wQM8E8oICo",
      "include_colab_link": true
    },
    "kernelspec": {
      "name": "python3",
      "display_name": "Python 3"
    },
    "language_info": {
      "name": "python"
    }
  },
  "cells": [
    {
      "cell_type": "markdown",
      "metadata": {
        "id": "view-in-github",
        "colab_type": "text"
      },
      "source": [
        "<a href=\"https://colab.research.google.com/github/hakyung-park/BAEKJOON/blob/main/Day_1_(06_30_2021).ipynb\" target=\"_parent\"><img src=\"https://colab.research.google.com/assets/colab-badge.svg\" alt=\"Open In Colab\"/></a>"
      ]
    },
    {
      "cell_type": "markdown",
      "metadata": {
        "id": "ZUJ2F89UAHTM"
      },
      "source": [
        "---\n",
        "# 문제 1 \n",
        "1,000보다 작은 자연수 중에 3 또는 5의 배수들의 합은?\n",
        "- 정답: 233168"
      ]
    },
    {
      "cell_type": "code",
      "metadata": {
        "colab": {
          "base_uri": "https://localhost:8080/"
        },
        "id": "9CvWndHocuIL",
        "outputId": "6b53b755-deb7-4163-ddce-5cd4a33d09a2"
      },
      "source": [
        "baesu = []\n",
        "\n",
        "for i in range(1,1000):\n",
        "    if (i % 3 == 0) or (i % 5 == 0):\n",
        "        baesu.append(i)\n",
        "    else: continue\n",
        "\n",
        "print(sum(baesu))"
      ],
      "execution_count": null,
      "outputs": [
        {
          "output_type": "stream",
          "text": [
            "233168\n"
          ],
          "name": "stdout"
        }
      ]
    },
    {
      "cell_type": "markdown",
      "metadata": {
        "id": "SmH-nDZncbnV"
      },
      "source": [
        "---\n",
        "# 문제 2\n",
        "피보나치 수열 1, 2, 3, 5, 8, 13, 21, 34, 55, 89, ...\n",
        "이 중 짝수이면서 4백만 이하인 항들의 합은?\n",
        "- 정답: 4613732"
      ]
    },
    {
      "cell_type": "code",
      "metadata": {
        "colab": {
          "base_uri": "https://localhost:8080/"
        },
        "id": "1E0PBR5uVBha",
        "outputId": "517ba7f5-ec48-415b-a448-b88f179efbc5"
      },
      "source": [
        "fibonacci = [1, 2]\n",
        "for i in range(1000):    # range(1000)와 같이 rough하게 한 부분 어떻게 수정해야 할까? 두 for문을 합칠수는 없나?\n",
        "    add = fibonacci[-1] + fibonacci[-2]    \n",
        "    if add < 4000000:\n",
        "        fibonacci.append(add)\n",
        "    else: continue\n",
        "\n",
        "print(fibonacci)\n",
        "\n",
        "\n",
        "result = []\n",
        "for i in range(len(fibonacci)):\n",
        "    if fibonacci[i] % 2 == 0:\n",
        "        result.append(fibonacci[i])\n",
        "    else: continue\n",
        "\n",
        "print(sum(result))"
      ],
      "execution_count": null,
      "outputs": [
        {
          "output_type": "stream",
          "text": [
            "[1, 2, 3, 5, 8, 13, 21, 34, 55, 89, 144, 233, 377, 610, 987, 1597, 2584, 4181, 6765, 10946, 17711, 28657, 46368, 75025, 121393, 196418, 317811, 514229, 832040, 1346269, 2178309, 3524578]\n",
            "4613732\n"
          ],
          "name": "stdout"
        }
      ]
    },
    {
      "cell_type": "code",
      "metadata": {
        "id": "H5_P1K8eksbJ"
      },
      "source": [
        "result = 0\n",
        "calA = 1\n",
        "calB = 1\n",
        "calEx = 0\n",
        "\n",
        "while calB <= 4000000:\n",
        "    if calB % 2 == 0:\n",
        "        result += calB                 \n",
        "       \n",
        "    calEx = calB        \n",
        "    calB = calA + calB        \n",
        "    calA = calEx      \n",
        "                \n",
        "print(result)"
      ],
      "execution_count": null,
      "outputs": []
    },
    {
      "cell_type": "code",
      "metadata": {
        "colab": {
          "base_uri": "https://localhost:8080/"
        },
        "id": "_HYz44oiYmlS",
        "outputId": "e05e286d-0040-400f-f0f6-f1f9212d0732"
      },
      "source": [
        "# index 확인\n",
        "print(fibonacci[31])\n",
        "print(fibonacci[-1])\n",
        "range(len(fibonacci)-1)"
      ],
      "execution_count": null,
      "outputs": [
        {
          "output_type": "stream",
          "text": [
            "3524578\n",
            "3524578\n"
          ],
          "name": "stdout"
        },
        {
          "output_type": "execute_result",
          "data": {
            "text/plain": [
              "range(0, 31)"
            ]
          },
          "metadata": {
            "tags": []
          },
          "execution_count": 50
        }
      ]
    },
    {
      "cell_type": "markdown",
      "metadata": {
        "id": "JzKJknVzctNo"
      },
      "source": [
        "---\n",
        "# 문제 3\n",
        "문자열 중 가장 많이 사용된 알파벳을 출력하라  \n",
        "단, 대소문자는 구분하지 않는다  \n",
        "동률이 있는 경우, 알파벳 순으로 출력할 것  \n",
        "\n",
        "문자열) \"This is a sample Program mississippi river\"  \n",
        "문자열) \"abcdabcdababccddcd\"\n",
        "\n",
        "- 정답: i 7번 & c 5번"
      ]
    },
    {
      "cell_type": "code",
      "metadata": {
        "id": "Us1TjgaWdkHC"
      },
      "source": [
        "text1 = \"This is a sample Program mississippi river\"\n",
        "text2 = \"abcdabcdababccddc\" "
      ],
      "execution_count": null,
      "outputs": []
    },
    {
      "cell_type": "code",
      "metadata": {
        "colab": {
          "base_uri": "https://localhost:8080/"
        },
        "id": "1RoaLwz2dDJP",
        "outputId": "fe87edaa-44f8-4c65-b6fe-c6e513abcf9a"
      },
      "source": [
        "text1 = text1.lower().replace(' ', '')\n",
        "text2 = text2.lower().replace(' ', '')\n",
        "print(text1, text2)"
      ],
      "execution_count": null,
      "outputs": [
        {
          "output_type": "stream",
          "text": [
            "thisisasampleprogrammississippiriver abcdabcdababccddcd\n"
          ],
          "name": "stdout"
        }
      ]
    },
    {
      "cell_type": "code",
      "metadata": {
        "colab": {
          "base_uri": "https://localhost:8080/"
        },
        "id": "fCe2D6EhdO1R",
        "outputId": "036d0512-8d74-461b-dcee-3b6fa47648c8"
      },
      "source": [
        "print(chr(65))  # A\n",
        "print(chr(90))  # Z\n",
        "print(chr(97))  # a\n",
        "print(chr(122)) # z"
      ],
      "execution_count": null,
      "outputs": [
        {
          "output_type": "stream",
          "text": [
            "A\n",
            "Z\n",
            "a\n",
            "z\n"
          ],
          "name": "stdout"
        }
      ]
    },
    {
      "cell_type": "code",
      "metadata": {
        "colab": {
          "base_uri": "https://localhost:8080/"
        },
        "id": "dZE7SiJZgEK2",
        "outputId": "735815d2-f2be-48a0-ff7f-81f1a4593d10"
      },
      "source": [
        "alphabet = {}\n",
        "for i in range(97, 123):   # a 부터 z 까지 dict 만들기\n",
        "    alphabet[chr(i)] = 0\n",
        "\n",
        "print(alphabet)"
      ],
      "execution_count": null,
      "outputs": [
        {
          "output_type": "stream",
          "text": [
            "{'a': 0, 'b': 0, 'c': 0, 'd': 0, 'e': 0, 'f': 0, 'g': 0, 'h': 0, 'i': 0, 'j': 0, 'k': 0, 'l': 0, 'm': 0, 'n': 0, 'o': 0, 'p': 0, 'q': 0, 'r': 0, 's': 0, 't': 0, 'u': 0, 'v': 0, 'w': 0, 'x': 0, 'y': 0, 'z': 0}\n"
          ],
          "name": "stdout"
        }
      ]
    },
    {
      "cell_type": "code",
      "metadata": {
        "colab": {
          "base_uri": "https://localhost:8080/"
        },
        "id": "pAS_t_BBl-oq",
        "outputId": "d5d7e0f0-5fe1-4632-d4a5-14afd97b9688"
      },
      "source": [
        "print(alphabet[chr(100)])\n",
        "print(chr(100))\n",
        "print(alphabet)"
      ],
      "execution_count": null,
      "outputs": [
        {
          "output_type": "stream",
          "text": [
            "0\n",
            "d\n",
            "{'a': 0, 'b': 0, 'c': 0, 'd': 0, 'e': 0, 'f': 0, 'g': 0, 'h': 0, 'i': 0, 'j': 0, 'k': 0, 'l': 0, 'm': 0, 'n': 0, 'o': 0, 'p': 0, 'q': 0, 'r': 0, 's': 0, 't': 0, 'u': 0, 'v': 0, 'w': 0, 'x': 0, 'y': 0, 'z': 0}\n"
          ],
          "name": "stdout"
        }
      ]
    },
    {
      "cell_type": "code",
      "metadata": {
        "colab": {
          "base_uri": "https://localhost:8080/"
        },
        "id": "Ya8jBn-ImT1y",
        "outputId": "73d905d4-9c05-42b9-dd7f-3eda33e624d9"
      },
      "source": [
        "i = 0\n",
        "print(text1[i])\n",
        "j = 97\n",
        "print(alphabet[chr(j)])"
      ],
      "execution_count": null,
      "outputs": [
        {
          "output_type": "stream",
          "text": [
            "t\n",
            "116\n",
            "0\n"
          ],
          "name": "stdout"
        }
      ]
    },
    {
      "cell_type": "code",
      "metadata": {
        "colab": {
          "base_uri": "https://localhost:8080/"
        },
        "id": "vl3BbGligiS5",
        "outputId": "917d070a-7edf-442e-c6bd-6faf24ae0640"
      },
      "source": [
        "for i in range(len(text1)):\n",
        "    print(text1[i])\n",
        "    for j in range(97, 123):\n",
        "        if alphabet[chr(j)] == text1[i]:\n",
        "            alphabet[chr(j)] += 1\n",
        "            print(alphabet)\n",
        "        else: continue"
      ],
      "execution_count": null,
      "outputs": [
        {
          "output_type": "stream",
          "text": [
            "t\n",
            "h\n",
            "i\n",
            "s\n",
            "i\n",
            "s\n",
            "a\n",
            "s\n",
            "a\n",
            "m\n",
            "p\n",
            "l\n",
            "e\n",
            "p\n",
            "r\n",
            "o\n",
            "g\n",
            "r\n",
            "a\n",
            "m\n",
            "m\n",
            "i\n",
            "s\n",
            "s\n",
            "i\n",
            "s\n",
            "s\n",
            "i\n",
            "p\n",
            "p\n",
            "i\n",
            "r\n",
            "i\n",
            "v\n",
            "e\n",
            "r\n"
          ],
          "name": "stdout"
        }
      ]
    }
  ]
}