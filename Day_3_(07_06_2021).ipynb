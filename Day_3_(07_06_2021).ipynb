{
  "nbformat": 4,
  "nbformat_minor": 0,
  "metadata": {
    "colab": {
      "name": "Day 3 (07.06.2021).ipynb",
      "provenance": [],
      "collapsed_sections": [],
      "authorship_tag": "ABX9TyNSyx+Z4LKWMFSZyegoosJc",
      "include_colab_link": true
    },
    "kernelspec": {
      "name": "python3",
      "display_name": "Python 3"
    },
    "language_info": {
      "name": "python"
    }
  },
  "cells": [
    {
      "cell_type": "markdown",
      "metadata": {
        "id": "view-in-github",
        "colab_type": "text"
      },
      "source": [
        "<a href=\"https://colab.research.google.com/github/hakyung-park/BAEKJOON/blob/main/Day_3_(07_06_2021).ipynb\" target=\"_parent\"><img src=\"https://colab.research.google.com/assets/colab-badge.svg\" alt=\"Open In Colab\"/></a>"
      ]
    },
    {
      "cell_type": "markdown",
      "metadata": {
        "id": "FpKZaaEWrbKK"
      },
      "source": [
        "# [2739번]\n"
      ]
    },
    {
      "cell_type": "markdown",
      "metadata": {
        "id": "spspzGBGu4B1"
      },
      "source": [
        "### 문제\n",
        "- N을 입력받은 뒤, 구구단 N단을 출력하는 프로그램을 작성하시오. 출력 형식에 맞춰서 출력하면 된다. \n",
        "\n",
        "### 입력 \n",
        "- 첫째 줄에 N이 주어진다. N은 1보다 크거나 같고, 9보다 작거나 같다.  \n",
        "\n",
        "### 출력\n",
        "- 출력형식과 같게 N X 1 부터 N X 9 까지 출력한다."
      ]
    },
    {
      "cell_type": "code",
      "metadata": {
        "colab": {
          "base_uri": "https://localhost:8080/"
        },
        "id": "4B9CzsLmvptp",
        "outputId": "05aae9a2-92ee-4af3-85e6-3b270369b9e1"
      },
      "source": [
        "n = int(input())\n",
        "for i in range(1,10):\n",
        "    print(str(n)+\" * \"+str(i)+\" = \"+str(n*i))"
      ],
      "execution_count": null,
      "outputs": [
        {
          "output_type": "stream",
          "text": [
            "2 * 1 = 2\n",
            "2 * 2 = 4\n",
            "2 * 3 = 6\n",
            "2 * 4 = 8\n",
            "2 * 5 = 10\n",
            "2 * 6 = 12\n",
            "2 * 7 = 14\n",
            "2 * 8 = 16\n",
            "2 * 9 = 18\n"
          ],
          "name": "stdout"
        }
      ]
    },
    {
      "cell_type": "markdown",
      "metadata": {
        "id": "2vzSUEgQxfYN"
      },
      "source": [
        "---\n",
        "# [2438번] 별 찍기 - 1\n"
      ]
    },
    {
      "cell_type": "markdown",
      "metadata": {
        "id": "hkoe6Rt7zHN9"
      },
      "source": [
        "### 문제\n",
        "- 첫째 줄에는 별 1개, 둘째 줄에는 별 2개, N번째 줄에는 별 N개를 찍는 문제 \n",
        "\n",
        "### 입력 \n",
        "- 첫째 줄에 N(1 ≤ N ≤ 100)이 주어진다.  \n",
        "\n",
        "### 출력\n",
        "- 첫째 줄부터 N번째 줄까지 차례대로 별을 출력한다."
      ]
    },
    {
      "cell_type": "code",
      "metadata": {
        "colab": {
          "base_uri": "https://localhost:8080/"
        },
        "id": "4d51Ycy-zPH1",
        "outputId": "35092f7b-c134-4954-f586-32a246ebfef8"
      },
      "source": [
        "n = int(input())\n",
        "for i in range(1,n+1):\n",
        "    print('*'*i)"
      ],
      "execution_count": 13,
      "outputs": [
        {
          "output_type": "stream",
          "text": [
            "3\n",
            "*\n",
            "**\n",
            "***\n"
          ],
          "name": "stdout"
        }
      ]
    },
    {
      "cell_type": "markdown",
      "metadata": {
        "id": "yY_JPEJL0DZ8"
      },
      "source": [
        "---\n",
        "# [9498번] 시험성적"
      ]
    },
    {
      "cell_type": "markdown",
      "metadata": {
        "id": "f9B-znbZ0d_z"
      },
      "source": [
        "### 문제\n",
        "- 시험 점수를 입력받아 90 ~ 100점은 A, 80 ~ 89점은 B, 70 ~ 79점은 C, 60 ~ 69점은 D, 나머지 점수는 F를 출력하는 프로그램을 작성하시오.\n",
        "\n",
        "### 입력 \n",
        "- 첫째 줄에 시험 점수가 주어진다. 시험 점수는 0보다 크거나 같고, 100보다 작거나 같은 정수이다. \n",
        "\n",
        "### 출력\n",
        "- 시험 성적을 출력한다.\n",
        "\n"
      ]
    },
    {
      "cell_type": "code",
      "metadata": {
        "colab": {
          "base_uri": "https://localhost:8080/"
        },
        "id": "CQUgVamc0zie",
        "outputId": "db069cca-ba8e-48c1-e8cf-c85015c1e549"
      },
      "source": [
        "a = int(input())\n",
        "if a >= 0 and a <= 100:\n",
        "    if a >= 90: \n",
        "        print(\"A\")\n",
        "    elif a >= 80 and a <= 89:\n",
        "        print(\"B\")\n",
        "    elif a >= 70 and a <= 79:\n",
        "        print(\"C\")\n",
        "    elif a >= 60 and a <= 69:\n",
        "        print(\"D\")\n",
        "    else:\n",
        "        print(\"F\")"
      ],
      "execution_count": 16,
      "outputs": [
        {
          "output_type": "stream",
          "text": [
            "89\n",
            "B\n"
          ],
          "name": "stdout"
        }
      ]
    },
    {
      "cell_type": "markdown",
      "metadata": {
        "id": "MX_7rPkF1sIH"
      },
      "source": [
        "---\n",
        "# [2741번] N 찍기"
      ]
    },
    {
      "cell_type": "markdown",
      "metadata": {
        "id": "ZAqPcaPq1wTt"
      },
      "source": [
        "### 문제\n",
        "- 자연수 N이 주어졌을 때, 1부터 N까지 한 줄에 하나씩 출력하는 프로그램을 작성하시오.\n",
        "\n",
        "### 입력 \n",
        "- 첫째 줄에 100,000보다 작거나 같은 자연수 N이 주어진다.\n",
        "\n",
        "### 출력\n",
        "- 첫째 줄부터 N번째 줄 까지 차례대로 출력한다."
      ]
    },
    {
      "cell_type": "code",
      "metadata": {
        "colab": {
          "base_uri": "https://localhost:8080/"
        },
        "id": "2BpuRqHo138I",
        "outputId": "703eee23-c69b-4420-fa8a-77b2778be77a"
      },
      "source": [
        "n = int(input())\n",
        "for i in range(1,n+1):\n",
        "    print(i)"
      ],
      "execution_count": 17,
      "outputs": [
        {
          "output_type": "stream",
          "text": [
            "5\n",
            "1\n",
            "2\n",
            "3\n",
            "4\n",
            "5\n"
          ],
          "name": "stdout"
        }
      ]
    }
  ]
}